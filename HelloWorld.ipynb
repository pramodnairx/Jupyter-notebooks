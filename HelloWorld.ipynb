{
  "metadata": {
    "kernelspec": {
      "name": "python",
      "display_name": "Python (Pyodide)",
      "language": "python"
    },
    "language_info": {
      "codemirror_mode": {
        "name": "python",
        "version": 3
      },
      "file_extension": ".py",
      "mimetype": "text/x-python",
      "name": "python",
      "nbconvert_exporter": "python",
      "pygments_lexer": "ipython3",
      "version": "3.8"
    },
    "colab": {
      "provenance": [],
      "toc_visible": true,
      "include_colab_link": true
    }
  },
  "nbformat_minor": 5,
  "nbformat": 4,
  "cells": [
    {
      "cell_type": "markdown",
      "metadata": {
        "id": "view-in-github",
        "colab_type": "text"
      },
      "source": [
        "<a href=\"https://colab.research.google.com/github/pramodnairx/Jupyter-notebooks/blob/main/HelloWorld.ipynb\" target=\"_parent\"><img src=\"https://colab.research.google.com/assets/colab-badge.svg\" alt=\"Open In Colab\"/></a>"
      ]
    },
    {
      "cell_type": "markdown",
      "source": [
        "Notes from Machine Learning with Scikit-Learn, Keras and TF"
      ],
      "metadata": {
        "id": "Zs-Vtq34RIjz"
      },
      "id": "Zs-Vtq34RIjz"
    },
    {
      "cell_type": "markdown",
      "source": [
        "Landscape (Key Terms)\n",
        "\n",
        "* Types of ML systems\n",
        "** Supervision (supervised, unsupervised, semi-supervised, self-supervised)\n",
        "** Incremental vs batch learning\n",
        "** Instance-based vs model-based learning\n",
        "\n",
        "Supervised learning: classification, regression (, logistic regression)\n",
        "\n",
        "- Unsupervised learning: Clustering, Visualization, Dimensionality reduction / feature extraction, anomaly detection, novelty detection\n",
        "- Semi-supervised learning: Google photos tagging for ex.\n",
        "- Self-supervised learning: transfer learning\n"
      ],
      "metadata": {
        "id": "VxjL_DKYTDmU"
      },
      "id": "VxjL_DKYTDmU"
    }
  ]
}