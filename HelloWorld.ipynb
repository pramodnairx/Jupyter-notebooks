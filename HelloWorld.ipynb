{
  "metadata": {
    "kernelspec": {
      "name": "python",
      "display_name": "Python (Pyodide)",
      "language": "python"
    },
    "language_info": {
      "codemirror_mode": {
        "name": "python",
        "version": 3
      },
      "file_extension": ".py",
      "mimetype": "text/x-python",
      "name": "python",
      "nbconvert_exporter": "python",
      "pygments_lexer": "ipython3",
      "version": "3.8"
    }
  },
  "nbformat_minor": 5,
  "nbformat": 4,
  "cells": [
    {
      "id": "53b16654-38c5-4bf6-be87-174d25c35abc",
      "cell_type": "raw",
      "source": "Pandas - Series",
      "metadata": {}
    },
    {
      "id": "0d736e18-505a-4888-88b9-c4220096c07e",
      "cell_type": "raw",
      "source": "1. Created from an ndarray. index is optional",
      "metadata": {}
    },
    {
      "id": "4dd93cf2-53c3-4a47-983d-3784d2571620",
      "cell_type": "code",
      "source": "import numpy as np\nimport pandas as pd\nfrom datetime import date\n\ns1 = pd.Series([1, 3, 5, 7, 11], [\"cat\", \"dog\", \"horse\", \"cow\", \"sheep\"])\ns2 = pd.Series(np.random.randn(5), [100, 101, 102, 103, 104])\n\nseries_objects = [12, \"cat\", 43.2, date.today(), \"Yahoo!\"]\nseries_index = []\nfor x in range(0, len(series_objects)):\n    # series_index.append(np.random.randn())\n    series_index.append(x + 100)\ns3 = pd.Series(series_objects, series_index)\nprint(s3)",
      "metadata": {
        "trusted": true
      },
      "outputs": [
        {
          "name": "stdout",
          "text": "100            12\n101           cat\n102          43.2\n103    2024-09-17\n104        Yahoo!\ndtype: object\n",
          "output_type": "stream"
        }
      ],
      "execution_count": 16
    },
    {
      "id": "dbb1a3ec-aa16-4109-abac-4b85a9ee00ca",
      "cell_type": "raw",
      "source": "2. Created from a Dict. Key/Value = Index/Element",
      "metadata": {}
    },
    {
      "id": "f5e9e58d-4f33-40ae-9604-40cdc7b94bb9",
      "cell_type": "code",
      "source": "import numpy as np\nimport pandas as pd\nfrom datetime import date\n\nd = {\"apple\":25, \"watermelon\": 14, \"orange\": 55, \"cucumber\": 40}\npd.Series(d)",
      "metadata": {
        "trusted": true
      },
      "outputs": [
        {
          "execution_count": 17,
          "output_type": "execute_result",
          "data": {
            "text/plain": "apple         25\nwatermelon    14\norange        55\ncucumber      40\ndtype: int64"
          },
          "metadata": {}
        }
      ],
      "execution_count": 17
    },
    {
      "id": "29cd3fa7-bf9c-48d4-88e8-5440f27e4f5f",
      "cell_type": "raw",
      "source": "2.1 Created from a Dict. Maps matching Dict entries to Series (Filters the Dict)",
      "metadata": {}
    },
    {
      "id": "eab89c99-f3ef-4533-b7b5-fd9a8da1a2d9",
      "cell_type": "code",
      "source": "pd.Series(d, [\"apple\", \"grapes\"])",
      "metadata": {
        "trusted": true
      },
      "outputs": [
        {
          "execution_count": 19,
          "output_type": "execute_result",
          "data": {
            "text/plain": "apple     25.0\ngrapes     NaN\ndtype: float64"
          },
          "metadata": {}
        }
      ],
      "execution_count": 19
    },
    {
      "id": "59e06ff0-8d8e-4d9b-bfd3-65905c233792",
      "cell_type": "raw",
      "source": "3. Created from a Scalar. Applies/Repeats index against the scalar",
      "metadata": {}
    },
    {
      "id": "8f21ba6e-2ea5-4aaf-a203-e7ab9f2f01ab",
      "cell_type": "code",
      "source": "pd.Series(35, d.keys())",
      "metadata": {
        "trusted": true
      },
      "outputs": [
        {
          "execution_count": 20,
          "output_type": "execute_result",
          "data": {
            "text/plain": "apple         35\nwatermelon    35\norange        35\ncucumber      35\ndtype: int64"
          },
          "metadata": {}
        }
      ],
      "execution_count": 20
    },
    {
      "id": "9782dc55-1748-43dd-b60a-b05400739bdc",
      "cell_type": "code",
      "source": "",
      "metadata": {
        "trusted": true
      },
      "outputs": [],
      "execution_count": null
    }
  ]
}