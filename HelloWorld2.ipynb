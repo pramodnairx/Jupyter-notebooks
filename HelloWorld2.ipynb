{
  "metadata": {
    "kernelspec": {
      "name": "python",
      "display_name": "Python (Pyodide)",
      "language": "python"
    },
    "language_info": {
      "codemirror_mode": {
        "name": "python",
        "version": 3
      },
      "file_extension": ".py",
      "mimetype": "text/x-python",
      "name": "python",
      "nbconvert_exporter": "python",
      "pygments_lexer": "ipython3",
      "version": "3.8"
    },
    "colab": {
      "provenance": [],
      "include_colab_link": true
    }
  },
  "nbformat_minor": 5,
  "nbformat": 4,
  "cells": [
    {
      "cell_type": "markdown",
      "metadata": {
        "id": "view-in-github",
        "colab_type": "text"
      },
      "source": [
        "<a href=\"https://colab.research.google.com/github/pramodnairx/Jupyter-notebooks/blob/main/HelloWorld2.ipynb\" target=\"_parent\"><img src=\"https://colab.research.google.com/assets/colab-badge.svg\" alt=\"Open In Colab\"/></a>"
      ]
    },
    {
      "id": "53b16654-38c5-4bf6-be87-174d25c35abc",
      "cell_type": "raw",
      "source": [
        "Pandas - Series."
      ],
      "metadata": {
        "id": "53b16654-38c5-4bf6-be87-174d25c35abc"
      }
    },
    {
      "id": "0d736e18-505a-4888-88b9-c4220096c07e",
      "cell_type": "raw",
      "source": [
        "1. Created from an ndarray. index is optional"
      ],
      "metadata": {
        "id": "0d736e18-505a-4888-88b9-c4220096c07e"
      }
    },
    {
      "id": "4dd93cf2-53c3-4a47-983d-3784d2571620",
      "cell_type": "code",
      "source": [
        "import numpy as np\n",
        "import pandas as pd\n",
        "from datetime import date\n",
        "\n",
        "s1 = pd.Series([1, 3, 5, 7, 11], [\"cat\", \"dog\", \"horse\", \"cow\", \"sheep\"])\n",
        "s2 = pd.Series(np.random.randn(5), [100, 101, 102, 103, 104])\n",
        "\n",
        "series_objects = [12, \"cat\", 43.2, date.today(), \"Yahoo!\"]\n",
        "series_index = []\n",
        "for x in range(0, len(series_objects)):\n",
        "    # series_index.append(np.random.randn())\n",
        "    series_index.append(x + 100)\n",
        "s3 = pd.Series(series_objects, series_index)\n",
        "print(s3)"
      ],
      "metadata": {
        "trusted": true,
        "id": "4dd93cf2-53c3-4a47-983d-3784d2571620",
        "outputId": "136d68d1-8718-4c52-e25e-cc572d922b68"
      },
      "outputs": [
        {
          "name": "stdout",
          "text": "100            12\n101           cat\n102          43.2\n103    2024-09-17\n104        Yahoo!\ndtype: object\n",
          "output_type": "stream"
        }
      ],
      "execution_count": null
    },
    {
      "id": "dbb1a3ec-aa16-4109-abac-4b85a9ee00ca",
      "cell_type": "raw",
      "source": [
        "2. Created from a Dict. Key/Value = Index/Element"
      ],
      "metadata": {
        "id": "dbb1a3ec-aa16-4109-abac-4b85a9ee00ca"
      }
    },
    {
      "id": "f5e9e58d-4f33-40ae-9604-40cdc7b94bb9",
      "cell_type": "code",
      "source": [
        "import numpy as np\n",
        "import pandas as pd\n",
        "from datetime import date\n",
        "\n",
        "d = {\"apple\":25, \"watermelon\": 14, \"orange\": 55, \"cucumber\": 40}\n",
        "pd.Series(d)"
      ],
      "metadata": {
        "trusted": true,
        "id": "f5e9e58d-4f33-40ae-9604-40cdc7b94bb9",
        "outputId": "f0749bfc-0282-4cd7-b9cc-e41007ae3edd",
        "colab": {
          "base_uri": "https://localhost:8080/",
          "height": 210
        }
      },
      "outputs": [
        {
          "output_type": "execute_result",
          "data": {
            "text/plain": [
              "apple         25\n",
              "watermelon    14\n",
              "orange        55\n",
              "cucumber      40\n",
              "dtype: int64"
            ],
            "text/html": [
              "<div>\n",
              "<style scoped>\n",
              "    .dataframe tbody tr th:only-of-type {\n",
              "        vertical-align: middle;\n",
              "    }\n",
              "\n",
              "    .dataframe tbody tr th {\n",
              "        vertical-align: top;\n",
              "    }\n",
              "\n",
              "    .dataframe thead th {\n",
              "        text-align: right;\n",
              "    }\n",
              "</style>\n",
              "<table border=\"1\" class=\"dataframe\">\n",
              "  <thead>\n",
              "    <tr style=\"text-align: right;\">\n",
              "      <th></th>\n",
              "      <th>0</th>\n",
              "    </tr>\n",
              "  </thead>\n",
              "  <tbody>\n",
              "    <tr>\n",
              "      <th>apple</th>\n",
              "      <td>25</td>\n",
              "    </tr>\n",
              "    <tr>\n",
              "      <th>watermelon</th>\n",
              "      <td>14</td>\n",
              "    </tr>\n",
              "    <tr>\n",
              "      <th>orange</th>\n",
              "      <td>55</td>\n",
              "    </tr>\n",
              "    <tr>\n",
              "      <th>cucumber</th>\n",
              "      <td>40</td>\n",
              "    </tr>\n",
              "  </tbody>\n",
              "</table>\n",
              "</div><br><label><b>dtype:</b> int64</label>"
            ]
          },
          "metadata": {},
          "execution_count": 2
        }
      ],
      "execution_count": null
    },
    {
      "id": "29cd3fa7-bf9c-48d4-88e8-5440f27e4f5f",
      "cell_type": "raw",
      "source": [
        "2.1 Created from a Dict. Maps matching Dict entries to Series (Filters the Dict)"
      ],
      "metadata": {
        "id": "29cd3fa7-bf9c-48d4-88e8-5440f27e4f5f"
      }
    },
    {
      "id": "eab89c99-f3ef-4533-b7b5-fd9a8da1a2d9",
      "cell_type": "code",
      "source": [
        "pd.Series(d, [\"apple\", \"grapes\"])"
      ],
      "metadata": {
        "trusted": true,
        "id": "eab89c99-f3ef-4533-b7b5-fd9a8da1a2d9",
        "outputId": "bc1c51d5-57da-44b5-a813-a8fec3d39b78"
      },
      "outputs": [
        {
          "execution_count": 19,
          "output_type": "execute_result",
          "data": {
            "text/plain": "apple     25.0\ngrapes     NaN\ndtype: float64"
          },
          "metadata": {}
        }
      ],
      "execution_count": null
    },
    {
      "id": "59e06ff0-8d8e-4d9b-bfd3-65905c233792",
      "cell_type": "raw",
      "source": [
        "3. Created from a Scalar. Applies/Repeats index against the scalar"
      ],
      "metadata": {
        "id": "59e06ff0-8d8e-4d9b-bfd3-65905c233792"
      }
    },
    {
      "id": "8f21ba6e-2ea5-4aaf-a203-e7ab9f2f01ab",
      "cell_type": "code",
      "source": [
        "pd.Series(35, d.keys())"
      ],
      "metadata": {
        "trusted": true,
        "id": "8f21ba6e-2ea5-4aaf-a203-e7ab9f2f01ab",
        "outputId": "36529956-9da6-490b-e7c5-52f9ccd37569",
        "colab": {
          "base_uri": "https://localhost:8080/",
          "height": 141
        }
      },
      "outputs": [
        {
          "output_type": "error",
          "ename": "NameError",
          "evalue": "name 'pd' is not defined",
          "traceback": [
            "\u001b[0;31m---------------------------------------------------------------------------\u001b[0m",
            "\u001b[0;31mNameError\u001b[0m                                 Traceback (most recent call last)",
            "\u001b[0;32m<ipython-input-1-2da81d287fbc>\u001b[0m in \u001b[0;36m<cell line: 1>\u001b[0;34m()\u001b[0m\n\u001b[0;32m----> 1\u001b[0;31m \u001b[0mpd\u001b[0m\u001b[0;34m.\u001b[0m\u001b[0mSeries\u001b[0m\u001b[0;34m(\u001b[0m\u001b[0;36m35\u001b[0m\u001b[0;34m,\u001b[0m \u001b[0md\u001b[0m\u001b[0;34m.\u001b[0m\u001b[0mkeys\u001b[0m\u001b[0;34m(\u001b[0m\u001b[0;34m)\u001b[0m\u001b[0;34m)\u001b[0m\u001b[0;34m\u001b[0m\u001b[0;34m\u001b[0m\u001b[0m\n\u001b[0m",
            "\u001b[0;31mNameError\u001b[0m: name 'pd' is not defined"
          ]
        }
      ],
      "execution_count": null
    },
    {
      "id": "9782dc55-1748-43dd-b60a-b05400739bdc",
      "cell_type": "code",
      "source": [],
      "metadata": {
        "trusted": true,
        "id": "9782dc55-1748-43dd-b60a-b05400739bdc"
      },
      "outputs": [],
      "execution_count": null
    }
  ]
}